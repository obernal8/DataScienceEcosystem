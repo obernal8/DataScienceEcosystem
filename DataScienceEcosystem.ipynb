{
 "cells": [
  {
   "cell_type": "markdown",
   "id": "b0700719-af9d-4341-a340-363d6bb86e2e",
   "metadata": {
    "tags": []
   },
   "source": [
    "# Data Science Tools and Ecosystem\n"
   ]
  },
  {
   "cell_type": "markdown",
   "id": "611dfd1e-f0a9-4681-ac88-252c53669e8c",
   "metadata": {},
   "source": [
    "In this notebook, Data Science Tools and Ecosystem are summarized.\n",
    "\n",
    "Objectives:\n",
    " <li>List popular languages for Data Science</li>\n",
    " <li>List commonly used libraries for Data Science</li>\n",
    " <li>List commonly used tools for Data Science </li>"
   ]
  },
  {
   "cell_type": "markdown",
   "id": "9211595c-2c72-4647-90dc-de3a7444ed45",
   "metadata": {},
   "source": [
    "Some of the popular languages that Data Scientists use are:\n",
    "\n",
    "<ol>\n",
    "   <li>Python</li>\n",
    "   <li>R</li>\n",
    "   <li>Julia</li>\n",
    "   <li>SQL</li>\n",
    "   <li>C++</li>\n",
    "</ol>"
   ]
  },
  {
   "cell_type": "markdown",
   "id": "005a1ebc-d99e-4da9-baa3-bf7839f1e206",
   "metadata": {},
   "source": [
    "Some of the commonly used libraries used by Data Scientists include:\n",
    "\n",
    "<ol>\n",
    "  <li>Pandas</li>\n",
    "   <li>NumPy</li>\n",
    "   <li>Matplotlib</li>\n",
    "   <li>Seaborn</li>\n",
    "   <li>Scikit-learn</li>\n",
    "</ol>"
   ]
  },
  {
   "cell_type": "markdown",
   "id": "29a7a999-8952-426a-81ea-64c2cb93e167",
   "metadata": {},
   "source": [
    "| Data Science Tools|\n",
    "| --- |\n",
    "| JupyterLab | Gaussian | .843 |\n",
    "| JupyterLite | Gaussian | .843 |\n",
    "| VS Code | Gaussian | .843 |\n",
    "| Google Colaboratory | Gaussian | .843 |"
   ]
  },
  {
   "cell_type": "markdown",
   "id": "85925a8d-0e2f-451e-b0f8-392df98fdf6c",
   "metadata": {},
   "source": [
    "### Below are a few examples of evaluating arithmetic expressions in Python.\n"
   ]
  },
  {
   "cell_type": "code",
   "execution_count": 4,
   "id": "20bd14b5-5aad-4f73-9c6e-58848cfeadc3",
   "metadata": {
    "tags": []
   },
   "outputs": [
    {
     "name": "stdout",
     "output_type": "stream",
     "text": [
      "17\n"
     ]
    }
   ],
   "source": [
    "'''This a simple arithmetic expression to mutiply then add integers'''\n",
    "x = (3*4)+5\n",
    "print (x)"
   ]
  },
  {
   "cell_type": "code",
   "execution_count": 3,
   "id": "f54b7a02-cf89-4df6-a7c6-ed540b94a6ef",
   "metadata": {
    "tags": []
   },
   "outputs": [
    {
     "name": "stdout",
     "output_type": "stream",
     "text": [
      "3.3333333333333335\n"
     ]
    }
   ],
   "source": [
    "'''This will convert 200 minutes to hours by diving by 60'''\n",
    "x = 200/60\n",
    "print(x)"
   ]
  },
  {
   "cell_type": "markdown",
   "id": "fea4a427-f183-48a5-bb7f-69dc4812505d",
   "metadata": {},
   "source": [
    "## Author\n",
    "Octavio Bernal"
   ]
  }
 ],
 "metadata": {
  "kernelspec": {
   "display_name": "Python",
   "language": "python",
   "name": "conda-env-python-py"
  },
  "language_info": {
   "codemirror_mode": {
    "name": "ipython",
    "version": 3
   },
   "file_extension": ".py",
   "mimetype": "text/x-python",
   "name": "python",
   "nbconvert_exporter": "python",
   "pygments_lexer": "ipython3",
   "version": "3.7.12"
  }
 },
 "nbformat": 4,
 "nbformat_minor": 5
}
